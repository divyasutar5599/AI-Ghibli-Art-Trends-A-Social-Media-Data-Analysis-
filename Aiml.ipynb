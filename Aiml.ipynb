{
  "cells": [
    {
      "cell_type": "code",
      "execution_count": null,
      "metadata": {
        "id": "o6RugnzXAJaq"
      },
      "outputs": [],
      "source": [
        "import pandas as pd\n",
        "import matplotlib.pyplot as plt\n",
        "import seaborn as sns"
      ]
    },
    {
      "cell_type": "markdown",
      "metadata": {
        "id": "8lxkD0PTpxan"
      },
      "source": []
    },
    {
      "cell_type": "code",
      "execution_count": null,
      "metadata": {
        "colab": {
          "background_save": true,
          "base_uri": "https://localhost:8080/",
          "height": 216
        },
        "id": "qQdVbwLWAnjq",
        "outputId": "f55315b7-03b9-4eae-e853-152b4eaad2e9"
      },
      "outputs": [
        {
          "name": "stdout",
          "output_type": "stream",
          "text": [
            "Basic Info:\n",
            "<class 'pandas.core.frame.DataFrame'>\n",
            "RangeIndex: 500 entries, 0 to 499\n",
            "Data columns (total 16 columns):\n",
            " #   Column                 Non-Null Count  Dtype  \n",
            "---  ------                 --------------  -----  \n",
            " 0   image_id               500 non-null    object \n",
            " 1   user_id                500 non-null    object \n",
            " 2   prompt                 500 non-null    object \n",
            " 3   likes                  500 non-null    int64  \n",
            " 4   shares                 500 non-null    int64  \n",
            " 5   comments               500 non-null    int64  \n",
            " 6   platform               500 non-null    object \n",
            " 7   generation_time        500 non-null    float64\n",
            " 8   gpu_usage              500 non-null    int64  \n",
            " 9   file_size_kb           500 non-null    int64  \n",
            " 10  resolution             500 non-null    object \n",
            " 11  style_accuracy_score   500 non-null    int64  \n",
            " 12  is_hand_edited         500 non-null    object \n",
            " 13  ethical_concerns_flag  500 non-null    object \n",
            " 14  creation_date          500 non-null    object \n",
            " 15  top_comment            500 non-null    object \n",
            "dtypes: float64(1), int64(6), object(9)\n",
            "memory usage: 62.6+ KB\n",
            "None\n",
            "\n",
            "Sample Data:\n",
            "                               image_id   user_id  \\\n",
            "0  77ce5c72-eb45-4651-bcb1-c0677c0fceaf  6a7adf3d   \n",
            "1  7d66c67f-0d11-4ef9-895c-d865ef11fe40  523b8706   \n",
            "2  d7978afd-3932-4cce-9a21-5f9bf2bc1f64  0e02592a   \n",
            "3  cb34636a-a15c-4b15-999c-759dbb8896fe  9ed78a42   \n",
            "4  7511fbb8-db05-4584-a3a4-e8bb525ed58b  69ec8f02   \n",
            "\n",
            "                                         prompt  likes  shares  comments  \\\n",
            "0  Studio Ghibli-inspired ocean with giant fish    916     410       555   \n",
            "1                Ghibli-style village at sunset   2965    1361       417   \n",
            "2   A lone traveler exploring an enchanted ruin   4727     655       785   \n",
            "3    Spirited Away-style bustling market street   1629    1954       212   \n",
            "4  Magical Ghibli forest with floating lanterns   2573    1281       913   \n",
            "\n",
            "    platform  generation_time  gpu_usage  file_size_kb resolution  \\\n",
            "0     Reddit             4.80         49          1684  1024x1024   \n",
            "1     Reddit            11.11         81          2808  1024x1024   \n",
            "2  Instagram             5.56         41          1800  2048x2048   \n",
            "3     TikTok            12.45         88           479  2048x2048   \n",
            "4     TikTok             4.80         64          1789    512x512   \n",
            "\n",
            "   style_accuracy_score is_hand_edited ethical_concerns_flag creation_date  \\\n",
            "0                    89            Yes                   Yes    2025-03-11   \n",
            "1                    92            Yes                    No    2025-03-11   \n",
            "2                    61             No                    No    2025-03-06   \n",
            "3                    76             No                    No    2025-03-23   \n",
            "4                    58             No                   Yes    2025-03-06   \n",
            "\n",
            "                                         top_comment  \n",
            "0  So nostalgic, feels like childhood memories. 🎥...  \n",
            "1     Absolutely stunning! Love the details. 🎨 #5729  \n",
            "2      Is this AI or hand-painted? Incredible! #8001  \n",
            "3      Is this AI or hand-painted? Incredible! #5620  \n",
            "4  This looks straight out of a Ghibli movie! 🌟 #...  \n",
            "\n",
            "Summary Statistics:\n",
            "             likes       shares    comments  generation_time   gpu_usage  \\\n",
            "count   500.000000   500.000000  500.000000       500.000000  500.000000   \n",
            "mean   2601.262000  1040.182000  506.872000         8.317780   61.124000   \n",
            "std    1429.433498   562.668738  283.384066         3.903103   18.151131   \n",
            "min     105.000000    13.000000    5.000000         1.540000   30.000000   \n",
            "25%    1343.500000   587.750000  276.750000         5.027500   45.000000   \n",
            "50%    2566.500000  1092.000000  518.000000         8.380000   63.000000   \n",
            "75%    3913.250000  1502.000000  744.250000        11.540000   77.000000   \n",
            "max    4944.000000  1999.000000  998.000000        14.990000   90.000000   \n",
            "\n",
            "       file_size_kb  style_accuracy_score  \n",
            "count    500.000000            500.000000  \n",
            "mean    2511.822000             74.626000  \n",
            "std     1390.178578             14.679001  \n",
            "min      101.000000             50.000000  \n",
            "25%     1374.750000             62.000000  \n",
            "50%     2498.000000             74.000000  \n",
            "75%     3729.000000             87.250000  \n",
            "max     4973.000000            100.000000  \n"
          ]
        }
      ],
      "source": [
        "# Load the dataset\n",
        "df = pd.read_csv(\"ai_ghibli_trend_dataset_v2.csv\")\n",
        "\n",
        "# Display basic info\n",
        "print(\"Basic Info:\")\n",
        "print(df.info())\n",
        "print(\"\\nSample Data:\")\n",
        "print(df.head())\n",
        "\n",
        "# Summary statistics\n",
        "print(\"\\nSummary Statistics:\")\n",
        "print(df.describe())"
      ]
    },
    {
      "cell_type": "code",
      "execution_count": null,
      "metadata": {
        "colab": {
          "background_save": true,
          "base_uri": "https://localhost:8080/",
          "height": 216
        },
        "id": "8p5RVXTzBYkV",
        "outputId": "5fc63d29-b7d5-490c-da2c-6c849ec50627"
      },
      "outputs": [
        {
          "name": "stdout",
          "output_type": "stream",
          "text": [
            "\n",
            "Top 5 Most Liked Prompts:\n",
            "                                                prompt  likes   platform\n",
            "485        Ghibli-style mountain with floating islands   4944     TikTok\n",
            "155        A lone traveler exploring an enchanted ruin   4940    Twitter\n",
            "234  Anime-style train passing through a fantasy world   4931    Twitter\n",
            "418  Anime-style train passing through a fantasy world   4930  Instagram\n",
            "215          Ghibli-style night sky with glowing stars   4928     Reddit\n"
          ]
        },
        {
          "data": {
            "image/png": "[encoded data removed]",
            "text/plain": [
              "<Figure size 800x500 with 1 Axes>"
            ]
          },
          "metadata": {},
          "output_type": "display_data"
        }
      ],
      "source": [
        "# Convert creation_date to datetime\n",
        "df['creation_date'] = pd.to_datetime(df['creation_date'])\n",
        "\n",
        "# Top 5 most liked images\n",
        "top_liked = df.sort_values(by=\"likes\", ascending=False).head(5)\n",
        "print(\"\\nTop 5 Most Liked Prompts:\")\n",
        "print(top_liked[['prompt', 'likes', 'platform']])\n",
        "\n",
        "# Plot 1: Likes by Platform\n",
        "plt.figure(figsize=(8, 5))\n",
        "sns.boxplot(data=df, x='platform', y='likes')\n",
        "plt.title(\"Distribution of Likes by Platform\")\n",
        "plt.ylabel(\"Likes\")\n",
        "plt.xlabel(\"Platform\")\n",
        "plt.xticks(rotation=45)\n",
        "plt.tight_layout()\n",
        "plt.show()\n"
      ]
    },
    {
      "cell_type": "code",
      "execution_count": null,
      "metadata": {
        "colab": {
          "base_uri": "https://localhost:8080/",
          "height": 216
        },
        "id": "ZzrStpp-BwY8",
        "outputId": "b9d748e8-3a6d-474b-fa52-5f82e82f29f3"
      },
      "outputs": [
        {
          "ename": "NameError",
          "evalue": "name 'plt' is not defined",
          "output_type": "error",
          "traceback": [
            "\u001b[0;31m---------------------------------------------------------------------------\u001b[0m",
            "\u001b[0;31mNameError\u001b[0m                                 Traceback (most recent call last)",
            "\u001b[0;32m<ipython-input-4-cd2198322757>\u001b[0m in \u001b[0;36m<cell line: 0>\u001b[0;34m()\u001b[0m\n\u001b[1;32m      1\u001b[0m \u001b[0;31m# Plot 2: Style Accuracy Score Distribution\u001b[0m\u001b[0;34m\u001b[0m\u001b[0;34m\u001b[0m\u001b[0m\n\u001b[0;32m----> 2\u001b[0;31m \u001b[0mplt\u001b[0m\u001b[0;34m.\u001b[0m\u001b[0mfigure\u001b[0m\u001b[0;34m(\u001b[0m\u001b[0mfigsize\u001b[0m\u001b[0;34m=\u001b[0m\u001b[0;34m(\u001b[0m\u001b[0;36m8\u001b[0m\u001b[0;34m,\u001b[0m \u001b[0;36m5\u001b[0m\u001b[0;34m)\u001b[0m\u001b[0;34m)\u001b[0m\u001b[0;34m\u001b[0m\u001b[0;34m\u001b[0m\u001b[0m\n\u001b[0m\u001b[1;32m      3\u001b[0m \u001b[0msns\u001b[0m\u001b[0;34m.\u001b[0m\u001b[0mhistplot\u001b[0m\u001b[0;34m(\u001b[0m\u001b[0mdf\u001b[0m\u001b[0;34m[\u001b[0m\u001b[0;34m'style_accuracy_score'\u001b[0m\u001b[0;34m]\u001b[0m\u001b[0;34m,\u001b[0m \u001b[0mbins\u001b[0m\u001b[0;34m=\u001b[0m\u001b[0;36m20\u001b[0m\u001b[0;34m,\u001b[0m \u001b[0mkde\u001b[0m\u001b[0;34m=\u001b[0m\u001b[0;32mTrue\u001b[0m\u001b[0;34m,\u001b[0m \u001b[0mcolor\u001b[0m\u001b[0;34m=\u001b[0m\u001b[0;34m\"skyblue\"\u001b[0m\u001b[0;34m)\u001b[0m\u001b[0;34m\u001b[0m\u001b[0;34m\u001b[0m\u001b[0m\n\u001b[1;32m      4\u001b[0m \u001b[0mplt\u001b[0m\u001b[0;34m.\u001b[0m\u001b[0mtitle\u001b[0m\u001b[0;34m(\u001b[0m\u001b[0;34m\"Style Accuracy Score Distribution\"\u001b[0m\u001b[0;34m)\u001b[0m\u001b[0;34m\u001b[0m\u001b[0;34m\u001b[0m\u001b[0m\n\u001b[1;32m      5\u001b[0m \u001b[0mplt\u001b[0m\u001b[0;34m.\u001b[0m\u001b[0mxlabel\u001b[0m\u001b[0;34m(\u001b[0m\u001b[0;34m\"Style Accuracy Score\"\u001b[0m\u001b[0;34m)\u001b[0m\u001b[0;34m\u001b[0m\u001b[0;34m\u001b[0m\u001b[0m\n",
            "\u001b[0;31mNameError\u001b[0m: name 'plt' is not defined"
          ]
        }
      ],
      "source": [
        "# Plot 2: Style Accuracy Score Distribution\n",
        "plt.figure(figsize=(8, 5))\n",
        "sns.histplot(df['style_accuracy_score'], bins=20, kde=True, color=\"skyblue\")\n",
        "plt.title(\"Style Accuracy Score Distribution\")\n",
        "plt.xlabel(\"Style Accuracy Score\")\n",
        "plt.ylabel(\"Frequency\")\n",
        "plt.tight_layout()\n",
        "plt.show()"
      ]
    },
    {
      "cell_type": "code",
      "execution_count": null,
      "metadata": {
        "id": "ZiB2Tlc7CDhl"
      },
      "outputs": [],
      "source": [
        "# Plot 3: Daily Trend of Posts\n",
        "daily_counts = df['creation_date'].value_counts().sort_index()\n",
        "plt.figure(figsize=(10, 5))\n",
        "daily_counts.plot(kind='bar')\n",
        "plt.title(\"Daily Number of AI Ghibli Posts\")\n",
        "plt.xlabel(\"Date\")\n",
        "plt.ylabel(\"Number of Posts\")\n",
        "plt.xticks(rotation=45)\n",
        "plt.tight_layout()\n",
        "plt.show()"
      ]
    },
    {
      "cell_type": "code",
      "execution_count": null,
      "metadata": {
        "colab": {
          "base_uri": "https://localhost:8080/",
          "height": 382
        },
        "id": "gslD3-0CqR--",
        "outputId": "6f29b685-ce82-4f4b-9355-5c28d729bffe"
      },
      "outputs": [
        {
          "ename": "FileNotFoundError",
          "evalue": "[Errno 2] No such file or directory: 'ai_ghibli_trend_dataset_v2.csv'",
          "output_type": "error",
          "traceback": [
            "\u001b[0;31m---------------------------------------------------------------------------\u001b[0m",
            "\u001b[0;31mFileNotFoundError\u001b[0m                         Traceback (most recent call last)",
            "\u001b[0;32m<ipython-input-5-e566023a0bec>\u001b[0m in \u001b[0;36m<cell line: 0>\u001b[0;34m()\u001b[0m\n\u001b[1;32m      4\u001b[0m \u001b[0;34m\u001b[0m\u001b[0m\n\u001b[1;32m      5\u001b[0m \u001b[0;31m# Load the dataset\u001b[0m\u001b[0;34m\u001b[0m\u001b[0;34m\u001b[0m\u001b[0m\n\u001b[0;32m----> 6\u001b[0;31m \u001b[0mdf\u001b[0m \u001b[0;34m=\u001b[0m \u001b[0mpd\u001b[0m\u001b[0;34m.\u001b[0m\u001b[0mread_csv\u001b[0m\u001b[0;34m(\u001b[0m\u001b[0;34m\"ai_ghibli_trend_dataset_v2.csv\"\u001b[0m\u001b[0;34m)\u001b[0m\u001b[0;34m\u001b[0m\u001b[0;34m\u001b[0m\u001b[0m\n\u001b[0m\u001b[1;32m      7\u001b[0m \u001b[0;34m\u001b[0m\u001b[0m\n\u001b[1;32m      8\u001b[0m \u001b[0;31m# Display basic info\u001b[0m\u001b[0;34m\u001b[0m\u001b[0;34m\u001b[0m\u001b[0m\n",
            "\u001b[0;32m/usr/local/lib/python3.11/dist-packages/pandas/io/parsers/readers.py\u001b[0m in \u001b[0;36mread_csv\u001b[0;34m(filepath_or_buffer, sep, delimiter, header, names, index_col, usecols, dtype, engine, converters, true_values, false_values, skipinitialspace, skiprows, skipfooter, nrows, na_values, keep_default_na, na_filter, verbose, skip_blank_lines, parse_dates, infer_datetime_format, keep_date_col, date_parser, date_format, dayfirst, cache_dates, iterator, chunksize, compression, thousands, decimal, lineterminator, quotechar, quoting, doublequote, escapechar, comment, encoding, encoding_errors, dialect, on_bad_lines, delim_whitespace, low_memory, memory_map, float_precision, storage_options, dtype_backend)\u001b[0m\n\u001b[1;32m   1024\u001b[0m     \u001b[0mkwds\u001b[0m\u001b[0;34m.\u001b[0m\u001b[0mupdate\u001b[0m\u001b[0;34m(\u001b[0m\u001b[0mkwds_defaults\u001b[0m\u001b[0;34m)\u001b[0m\u001b[0;34m\u001b[0m\u001b[0;34m\u001b[0m\u001b[0m\n\u001b[1;32m   1025\u001b[0m \u001b[0;34m\u001b[0m\u001b[0m\n\u001b[0;32m-> 1026\u001b[0;31m     \u001b[0;32mreturn\u001b[0m \u001b[0m_read\u001b[0m\u001b[0;34m(\u001b[0m\u001b[0mfilepath_or_buffer\u001b[0m\u001b[0;34m,\u001b[0m \u001b[0mkwds\u001b[0m\u001b[0;34m)\u001b[0m\u001b[0;34m\u001b[0m\u001b[0;34m\u001b[0m\u001b[0m\n\u001b[0m\u001b[1;32m   1027\u001b[0m \u001b[0;34m\u001b[0m\u001b[0m\n\u001b[1;32m   1028\u001b[0m \u001b[0;34m\u001b[0m\u001b[0m\n",
            "\u001b[0;32m/usr/local/lib/python3.11/dist-packages/pandas/io/parsers/readers.py\u001b[0m in \u001b[0;36m_read\u001b[0;34m(filepath_or_buffer, kwds)\u001b[0m\n\u001b[1;32m    618\u001b[0m \u001b[0;34m\u001b[0m\u001b[0m\n\u001b[1;32m    619\u001b[0m     \u001b[0;31m# Create the parser.\u001b[0m\u001b[0;34m\u001b[0m\u001b[0;34m\u001b[0m\u001b[0m\n\u001b[0;32m--> 620\u001b[0;31m     \u001b[0mparser\u001b[0m \u001b[0;34m=\u001b[0m \u001b[0mTextFileReader\u001b[0m\u001b[0;34m(\u001b[0m\u001b[0mfilepath_or_buffer\u001b[0m\u001b[0;34m,\u001b[0m \u001b[0;34m**\u001b[0m\u001b[0mkwds\u001b[0m\u001b[0;34m)\u001b[0m\u001b[0;34m\u001b[0m\u001b[0;34m\u001b[0m\u001b[0m\n\u001b[0m\u001b[1;32m    621\u001b[0m \u001b[0;34m\u001b[0m\u001b[0m\n\u001b[1;32m    622\u001b[0m     \u001b[0;32mif\u001b[0m \u001b[0mchunksize\u001b[0m \u001b[0;32mor\u001b[0m \u001b[0miterator\u001b[0m\u001b[0;34m:\u001b[0m\u001b[0;34m\u001b[0m\u001b[0;34m\u001b[0m\u001b[0m\n",
            "\u001b[0;32m/usr/local/lib/python3.11/dist-packages/pandas/io/parsers/readers.py\u001b[0m in \u001b[0;36m__init__\u001b[0;34m(self, f, engine, **kwds)\u001b[0m\n\u001b[1;32m   1618\u001b[0m \u001b[0;34m\u001b[0m\u001b[0m\n\u001b[1;32m   1619\u001b[0m         \u001b[0mself\u001b[0m\u001b[0;34m.\u001b[0m\u001b[0mhandles\u001b[0m\u001b[0;34m:\u001b[0m \u001b[0mIOHandles\u001b[0m \u001b[0;34m|\u001b[0m \u001b[0;32mNone\u001b[0m \u001b[0;34m=\u001b[0m \u001b[0;32mNone\u001b[0m\u001b[0;34m\u001b[0m\u001b[0;34m\u001b[0m\u001b[0m\n\u001b[0;32m-> 1620\u001b[0;31m         \u001b[0mself\u001b[0m\u001b[0;34m.\u001b[0m\u001b[0m_engine\u001b[0m \u001b[0;34m=\u001b[0m \u001b[0mself\u001b[0m\u001b[0;34m.\u001b[0m\u001b[0m_make_engine\u001b[0m\u001b[0;34m(\u001b[0m\u001b[0mf\u001b[0m\u001b[0;34m,\u001b[0m \u001b[0mself\u001b[0m\u001b[0;34m.\u001b[0m\u001b[0mengine\u001b[0m\u001b[0;34m)\u001b[0m\u001b[0;34m\u001b[0m\u001b[0;34m\u001b[0m\u001b[0m\n\u001b[0m\u001b[1;32m   1621\u001b[0m \u001b[0;34m\u001b[0m\u001b[0m\n\u001b[1;32m   1622\u001b[0m     \u001b[0;32mdef\u001b[0m \u001b[0mclose\u001b[0m\u001b[0;34m(\u001b[0m\u001b[0mself\u001b[0m\u001b[0;34m)\u001b[0m \u001b[0;34m->\u001b[0m \u001b[0;32mNone\u001b[0m\u001b[0;34m:\u001b[0m\u001b[0;34m\u001b[0m\u001b[0;34m\u001b[0m\u001b[0m\n",
            "\u001b[0;32m/usr/local/lib/python3.11/dist-packages/pandas/io/parsers/readers.py\u001b[0m in \u001b[0;36m_make_engine\u001b[0;34m(self, f, engine)\u001b[0m\n\u001b[1;32m   1878\u001b[0m                 \u001b[0;32mif\u001b[0m \u001b[0;34m\"b\"\u001b[0m \u001b[0;32mnot\u001b[0m \u001b[0;32min\u001b[0m \u001b[0mmode\u001b[0m\u001b[0;34m:\u001b[0m\u001b[0;34m\u001b[0m\u001b[0;34m\u001b[0m\u001b[0m\n\u001b[1;32m   1879\u001b[0m                     \u001b[0mmode\u001b[0m \u001b[0;34m+=\u001b[0m \u001b[0;34m\"b\"\u001b[0m\u001b[0;34m\u001b[0m\u001b[0;34m\u001b[0m\u001b[0m\n\u001b[0;32m-> 1880\u001b[0;31m             self.handles = get_handle(\n\u001b[0m\u001b[1;32m   1881\u001b[0m                 \u001b[0mf\u001b[0m\u001b[0;34m,\u001b[0m\u001b[0;34m\u001b[0m\u001b[0;34m\u001b[0m\u001b[0m\n\u001b[1;32m   1882\u001b[0m                 \u001b[0mmode\u001b[0m\u001b[0;34m,\u001b[0m\u001b[0;34m\u001b[0m\u001b[0;34m\u001b[0m\u001b[0m\n",
            "\u001b[0;32m/usr/local/lib/python3.11/dist-packages/pandas/io/common.py\u001b[0m in \u001b[0;36mget_handle\u001b[0;34m(path_or_buf, mode, encoding, compression, memory_map, is_text, errors, storage_options)\u001b[0m\n\u001b[1;32m    871\u001b[0m         \u001b[0;32mif\u001b[0m \u001b[0mioargs\u001b[0m\u001b[0;34m.\u001b[0m\u001b[0mencoding\u001b[0m \u001b[0;32mand\u001b[0m \u001b[0;34m\"b\"\u001b[0m \u001b[0;32mnot\u001b[0m \u001b[0;32min\u001b[0m \u001b[0mioargs\u001b[0m\u001b[0;34m.\u001b[0m\u001b[0mmode\u001b[0m\u001b[0;34m:\u001b[0m\u001b[0;34m\u001b[0m\u001b[0;34m\u001b[0m\u001b[0m\n\u001b[1;32m    872\u001b[0m             \u001b[0;31m# Encoding\u001b[0m\u001b[0;34m\u001b[0m\u001b[0;34m\u001b[0m\u001b[0m\n\u001b[0;32m--> 873\u001b[0;31m             handle = open(\n\u001b[0m\u001b[1;32m    874\u001b[0m                 \u001b[0mhandle\u001b[0m\u001b[0;34m,\u001b[0m\u001b[0;34m\u001b[0m\u001b[0;34m\u001b[0m\u001b[0m\n\u001b[1;32m    875\u001b[0m                 \u001b[0mioargs\u001b[0m\u001b[0;34m.\u001b[0m\u001b[0mmode\u001b[0m\u001b[0;34m,\u001b[0m\u001b[0;34m\u001b[0m\u001b[0;34m\u001b[0m\u001b[0m\n",
            "\u001b[0;31mFileNotFoundError\u001b[0m: [Errno 2] No such file or directory: 'ai_ghibli_trend_dataset_v2.csv'"
          ]
        }
      ],
      "source": [
        "import pandas as pd\n",
        "import matplotlib.pyplot as plt\n",
        "import seaborn as sns\n",
        "\n",
        "# Load the dataset\n",
        "df = pd.read_csv(\"ai_ghibli_trend_dataset_v2.csv\")\n",
        "\n",
        "# Display basic info\n",
        "print(\"Basic Info:\")\n",
        "print(df.info())\n",
        "print(\"\\nSample Data:\")\n",
        "print(df.head())\n",
        "\n",
        "# Summary statistics\n",
        "print(\"\\nSummary Statistics:\")\n",
        "print(df.describe())\n",
        "\n",
        "# Convert creation_date to datetime\n",
        "df['creation_date'] = pd.to_datetime(df['creation_date'])\n",
        "\n",
        "# Top 5 most liked images\n",
        "top_liked = df.sort_values(by=\"likes\", ascending=False).head(5)\n",
        "print(\"\\nTop 5 Most Liked Prompts:\")\n",
        "print(top_liked[['prompt', 'likes', 'platform']])\n",
        "\n",
        "# Plot 1: Likes by Platform\n",
        "plt.figure(figsize=(8, 5))\n",
        "sns.boxplot(data=df, x='platform', y='likes')\n",
        "plt.title(\"Distribution of Likes by Platform\")\n",
        "plt.ylabel(\"Likes\")\n",
        "plt.xlabel(\"Platform\")\n",
        "plt.xticks(rotation=45)\n",
        "plt.tight_layout()\n",
        "plt.show()\n",
        "\n",
        "# Plot 2: Style Accuracy Score Distribution\n",
        "plt.figure(figsize=(8, 5))\n",
        "sns.histplot(df['style_accuracy_score'], bins=20, kde=True, color=\"skyblue\")\n",
        "plt.title(\"Style Accuracy Score Distribution\")\n",
        "plt.xlabel(\"Style Accuracy Score\")\n",
        "plt.ylabel(\"Frequency\")\n",
        "plt.tight_layout()\n",
        "plt.show()\n",
        "\n",
        "# Plot 3: Daily Trend of Posts\n",
        "daily_counts = df['creation_date'].value_counts().sort_index()\n",
        "plt.figure(figsize=(10, 5))\n",
        "daily_counts.plot(kind='bar')\n",
        "plt.title(\"Daily Number of AI Ghibli Posts\")\n",
        "plt.xlabel(\"Date\")\n",
        "plt.ylabel(\"Number of Posts\")\n",
        "plt.xticks(rotation=45)\n",
        "plt.tight_layout()\n",
        "plt.show()\n"
      ]
    },
    {
      "cell_type": "code",
      "execution_count": null,
      "metadata": {
        "id": "NXDkp27pqS8B"
      },
      "outputs": [],
      "source": []
    }
  ],
  "metadata": {
    "colab": {
      "provenance": []
    },
    "kernelspec": {
      "display_name": "Python 3",
      "name": "python3"
    },
    "language_info": {
      "name": "python"
    }
  },
  "nbformat": 4,
  "nbformat_minor": 0
}